{
 "cells": [
  {
   "cell_type": "markdown",
   "metadata": {},
   "source": [
    "# PostSelecttML: Modeling Notebook Locally Run Modeling\n",
    "### by Dolci Key "
   ]
  },
  {
   "cell_type": "markdown",
   "metadata": {},
   "source": [
    " In following this notebook, I will run the current best model locally. "
   ]
  },
  {
   "cell_type": "markdown",
   "metadata": {},
   "source": [
    "## Import Libraries"
   ]
  },
  {
   "cell_type": "code",
   "execution_count": 46,
   "metadata": {},
   "outputs": [],
   "source": [
    "import pandas as pd\n",
    "import numpy as np\n",
    "\n",
    "import matplotlib.pyplot as plt\n",
    "%matplotlib inline \n",
    "\n",
    "\n",
    "import tensorflow as tf\n",
    "from tensorflow import keras\n",
    "from keras import layers, models, optimizers, metrics\n",
    "from tensorflow.keras.preprocessing import image, image_dataset_from_directory\n",
    "from tensorflow.keras.preprocessing.image import load_img, img_to_array\n",
    "from keras.metrics import Accuracy, Recall\n",
    "from tensorflow.keras.layers import BatchNormalization\n",
    "from keras.callbacks import ModelCheckpoint\n",
    "from tensorflow.keras.utils import plot_model\n",
    "from sklearn.utils import class_weight\n",
    "\n",
    "\n",
    "from PIL import Image\n",
    "import pydot\n",
    "import graphviz\n",
    "\n",
    "import pickle\n",
    "from timeit import default_timer as timer\n",
    "\n",
    "import os\n",
    "import gc\n"
   ]
  },
  {
   "cell_type": "markdown",
   "metadata": {},
   "source": [
    "## Importing Data \n",
    "\n",
    "Here we have the train, validation, and hold out set directories and then the paths to the reject(X) and select(y/target). "
   ]
  },
  {
   "cell_type": "code",
   "execution_count": 22,
   "metadata": {},
   "outputs": [],
   "source": [
    "# Train\n",
    "\n",
    "train_dir = '/Volumes/DOLCI KEY 2019/Neural Network/compressed/TRAIN'\n",
    "\n",
    "# Split X and Y if needed \n",
    "train_x = '/Volumes/DOLCI KEY 2019/Neural Network/compressed/TRAIN/reject'\n",
    "train_y = '/Volumes/DOLCI KEY 2019/Neural Network/compressed/TRAIN/select'\n",
    "\n",
    "# Validation \n",
    "validation_dir = '/Volumes/DOLCI KEY 2019/Neural Network/compressed/VALIDATION'\n",
    "\n",
    "# Split X and Y if needed \n",
    "test_x = '/Volumes/DOLCI KEY 2019/Neural Network/compressed/VALIDATION/reject'\n",
    "test_y = '/Volumes/DOLCI KEY 2019/Neural Network/compressed/VALIDATION/select'\n",
    "\n",
    "# Test/Hold Out Set \n",
    "\n",
    "test_dir = '/Volumes/DOLCI KEY 2019/Neural Network/compressed/TEST'\n",
    "\n",
    "# Split X and Y if needed \n",
    "hold_x = '/Volumes/DOLCI KEY 2019/Neural Network/compressed/TEST/reject'\n",
    "hold_y = '/Volumes/DOLCI KEY 2019/Neural Network/compressed/TEST/select'"
   ]
  },
  {
   "cell_type": "markdown",
   "metadata": {},
   "source": [
    "## Setting up the Training, Validation, and Test sets. \n",
    "\n",
    "for the training set, we will use the horizontal_flip to augment the minority class as well as adding zoom range up to 30%. We have included the target size of the images which are 500,333 pixels each, set the color mode to RGB (color), and the class mode is binary. "
   ]
  },
  {
   "cell_type": "code",
   "execution_count": 24,
   "metadata": {},
   "outputs": [
    {
     "name": "stdout",
     "output_type": "stream",
     "text": [
      "Found 1954 images belonging to 2 classes.\n"
     ]
    }
   ],
   "source": [
    "#Training\n",
    "train_set = image.ImageDataGenerator(rescale = 1/255, horizontal_flip = True, zoom_range = .3).flow_from_directory(train_dir,\n",
    "                                                                  target_size = (500,333), \n",
    "                                                                  color_mode='rgb',\n",
    "                                                                  class_mode = 'binary')\n",
    "\n"
   ]
  },
  {
   "cell_type": "code",
   "execution_count": 25,
   "metadata": {},
   "outputs": [
    {
     "name": "stdout",
     "output_type": "stream",
     "text": [
      "Found 698 images belonging to 2 classes.\n"
     ]
    }
   ],
   "source": [
    "# Validation Set\n",
    "validation_set = image.ImageDataGenerator(rescale = 1/255).flow_from_directory(validation_dir,\n",
    "                                                                shuffle= True,\n",
    "                                                                target_size = (500,333), \n",
    "                                                                color_mode='rgb',\n",
    "                                                                class_mode='binary')"
   ]
  },
  {
   "cell_type": "code",
   "execution_count": 47,
   "metadata": {},
   "outputs": [
    {
     "name": "stdout",
     "output_type": "stream",
     "text": [
      "Found 769 images belonging to 2 classes.\n"
     ]
    }
   ],
   "source": [
    "# Test set / Hold out Set                                                               \n",
    "test_set = image.ImageDataGenerator(rescale = 1/255).flow_from_directory(test_dir,\n",
    "                                                                shuffle = False, \n",
    "                                                                target_size = (500,333), \n",
    "                                                                color_mode='rgb',\n",
    "                                                                class_mode='binary')"
   ]
  },
  {
   "cell_type": "markdown",
   "metadata": {},
   "source": [
    "## Vanilla Model "
   ]
  },
  {
   "cell_type": "markdown",
   "metadata": {},
   "source": [
    "First, I will run a very simple model to get an idea of a baseline, or a starting point to really work from. The metrics I am most interested in is recall as I would much rather get a bad photo mixed in with the good ones occasionally, rather than a good one tossed out with the bad. "
   ]
  },
  {
   "cell_type": "code",
   "execution_count": 31,
   "metadata": {},
   "outputs": [],
   "source": [
    "# Vanilla model \n",
    "\n",
    "HEIGHT = 500\n",
    "WIDTH = 333\n",
    "DEPTH = 3\n",
    "\n",
    "model = models.Sequential()\n",
    "model.add(layers.Conv2D(32, 3, activation = 'relu', padding = 'same', input_shape=(HEIGHT, WIDTH, DEPTH)))\n",
    "model.add(layers.MaxPooling2D((2, 2)))\n",
    "model.add(layers.Flatten())\n",
    "model.add(layers.Dense(128, activation = 'relu'))\n",
    "model.add(layers.Dense(1, activation='sigmoid'))"
   ]
  },
  {
   "cell_type": "code",
   "execution_count": 103,
   "metadata": {},
   "outputs": [],
   "source": [
    "vanilla_model.compile(loss='binary_crossentropy',  \n",
    "                optimizer=optimizers.RMSprop(lr=.0001),\n",
    "                metrics = ['binary_accuracy', 'Recall', 'Precision'])"
   ]
  },
  {
   "cell_type": "code",
   "execution_count": 104,
   "metadata": {},
   "outputs": [
    {
     "name": "stdout",
     "output_type": "stream",
     "text": [
      "Epoch 1/5\n",
      "62/62 [==============================] - 334s 5s/step - loss: 0.3441 - binary_accuracy: 0.8920 - recall: 0.0104 - precision: 0.0909 - val_loss: 0.8603 - val_binary_accuracy: 0.6819 - val_recall: 0.0000e+00 - val_precision: 0.0000e+00\n",
      "Epoch 2/5\n",
      "62/62 [==============================] - 355s 6s/step - loss: 0.3286 - binary_accuracy: 0.9012 - recall: 0.0000e+00 - precision: 0.0000e+00 - val_loss: 0.8538 - val_binary_accuracy: 0.6819 - val_recall: 0.0000e+00 - val_precision: 0.0000e+00\n",
      "Epoch 3/5\n",
      "62/62 [==============================] - 300s 5s/step - loss: 0.3330 - binary_accuracy: 0.9012 - recall: 0.0000e+00 - precision: 0.0000e+00 - val_loss: 0.8114 - val_binary_accuracy: 0.6819 - val_recall: 0.0000e+00 - val_precision: 0.0000e+00\n",
      "Epoch 4/5\n",
      "62/62 [==============================] - 298s 5s/step - loss: 0.3287 - binary_accuracy: 0.9012 - recall: 0.0000e+00 - precision: 0.0000e+00 - val_loss: 0.8265 - val_binary_accuracy: 0.6819 - val_recall: 0.0000e+00 - val_precision: 0.0000e+00\n",
      "Epoch 5/5\n",
      "62/62 [==============================] - 296s 5s/step - loss: 0.3308 - binary_accuracy: 0.9012 - recall: 0.0000e+00 - precision: 0.0000e+00 - val_loss: 0.8405 - val_binary_accuracy: 0.6819 - val_recall: 0.0000e+00 - val_precision: 0.0000e+00\n",
      "Total Time Elapsed:  27  minutes  1  seconds\n"
     ]
    }
   ],
   "source": [
    "# Start timer to keep track of how long model is running for, not using class weights for this model\n",
    "start = timer()\n",
    "\n",
    "vanilla = model.fit(train_set, epochs = 5,\n",
    "                            validation_data = validation_set)\n",
    "end = timer()\n",
    "\n",
    "# Take difference of time \n",
    "elapsed = end - start\n",
    "print('Total Time Elapsed: ', int(elapsed//60), ' minutes ', (round(elapsed%60)), ' seconds')"
   ]
  },
  {
   "cell_type": "markdown",
   "metadata": {},
   "source": [
    "## Model Summary, Evaluation, and Prediction on Unseen Data"
   ]
  },
  {
   "cell_type": "code",
   "execution_count": 107,
   "metadata": {},
   "outputs": [
    {
     "name": "stdout",
     "output_type": "stream",
     "text": [
      "Model: \"sequential_4\"\n",
      "_________________________________________________________________\n",
      "Layer (type)                 Output Shape              Param #   \n",
      "=================================================================\n",
      "conv2d_4 (Conv2D)            (None, 498, 331, 32)      896       \n",
      "_________________________________________________________________\n",
      "max_pooling2d_4 (MaxPooling2 (None, 249, 165, 32)      0         \n",
      "_________________________________________________________________\n",
      "conv2d_5 (Conv2D)            (None, 247, 163, 32)      9248      \n",
      "_________________________________________________________________\n",
      "max_pooling2d_5 (MaxPooling2 (None, 123, 81, 32)       0         \n",
      "_________________________________________________________________\n",
      "dropout (Dropout)            (None, 123, 81, 32)       0         \n",
      "_________________________________________________________________\n",
      "conv2d_6 (Conv2D)            (None, 123, 81, 64)       18496     \n",
      "_________________________________________________________________\n",
      "max_pooling2d_6 (MaxPooling2 (None, 61, 40, 64)        0         \n",
      "_________________________________________________________________\n",
      "conv2d_7 (Conv2D)            (None, 59, 38, 64)        36928     \n",
      "_________________________________________________________________\n",
      "max_pooling2d_7 (MaxPooling2 (None, 29, 19, 64)        0         \n",
      "_________________________________________________________________\n",
      "dropout_1 (Dropout)          (None, 29, 19, 64)        0         \n",
      "_________________________________________________________________\n",
      "conv2d_8 (Conv2D)            (None, 29, 19, 128)       73856     \n",
      "_________________________________________________________________\n",
      "max_pooling2d_8 (MaxPooling2 (None, 14, 9, 128)        0         \n",
      "_________________________________________________________________\n",
      "dropout_2 (Dropout)          (None, 14, 9, 128)        0         \n",
      "_________________________________________________________________\n",
      "conv2d_9 (Conv2D)            (None, 14, 9, 256)        295168    \n",
      "_________________________________________________________________\n",
      "max_pooling2d_9 (MaxPooling2 (None, 7, 4, 256)         0         \n",
      "_________________________________________________________________\n",
      "dropout_3 (Dropout)          (None, 7, 4, 256)         0         \n",
      "_________________________________________________________________\n",
      "flatten_4 (Flatten)          (None, 7168)              0         \n",
      "_________________________________________________________________\n",
      "dense_8 (Dense)              (None, 256)               1835264   \n",
      "_________________________________________________________________\n",
      "dense_9 (Dense)              (None, 256)               65792     \n",
      "_________________________________________________________________\n",
      "dropout_4 (Dropout)          (None, 256)               0         \n",
      "_________________________________________________________________\n",
      "dense_10 (Dense)             (None, 1)                 257       \n",
      "=================================================================\n",
      "Total params: 2,335,905\n",
      "Trainable params: 2,335,905\n",
      "Non-trainable params: 0\n",
      "_________________________________________________________________\n"
     ]
    }
   ],
   "source": [
    "vanilla_model.summary()"
   ]
  },
  {
   "cell_type": "code",
   "execution_count": 108,
   "metadata": {},
   "outputs": [
    {
     "name": "stdout",
     "output_type": "stream",
     "text": [
      "25/25 [==============================] - 26s 1s/step - loss: 0.4752 - binary_accuracy: 0.8375 - recall: 0.0000e+00 - precision: 0.0000e+00\n"
     ]
    },
    {
     "data": {
      "text/plain": [
       "[0.4751628637313843, 0.8374512195587158, 0.0, 0.0]"
      ]
     },
     "execution_count": 108,
     "metadata": {},
     "output_type": "execute_result"
    }
   ],
   "source": [
    "vanilla_model.evaluate(test_set)"
   ]
  },
  {
   "cell_type": "code",
   "execution_count": null,
   "metadata": {},
   "outputs": [],
   "source": [
    "vanilla_model.save('SCRIPTS/model_script\\assets')"
   ]
  },
  {
   "cell_type": "markdown",
   "metadata": {},
   "source": [
    "## Vanilla Model with Class Weights \n",
    "\n",
    "So now that I have an idea, let's see if weighting the classes helps with the scores. "
   ]
  },
  {
   "cell_type": "markdown",
   "metadata": {},
   "source": [
    "### Weighting the classes \n",
    "For later usage, we will weight the classes to help with class imbalance. "
   ]
  },
  {
   "cell_type": "code",
   "execution_count": 79,
   "metadata": {},
   "outputs": [
    {
     "data": {
      "text/plain": [
       "{0: 0.5547984099943214, 1: 5.062176165803109}"
      ]
     },
     "execution_count": 79,
     "metadata": {},
     "output_type": "execute_result"
    }
   ],
   "source": [
    "from sklearn.utils.class_weight import compute_class_weight\n",
    "weights = compute_class_weight('balanced', [0, 1], train_set.classes)\n",
    "weights = dict(zip([0, 1], weights))\n",
    "weights"
   ]
  },
  {
   "cell_type": "code",
   "execution_count": 80,
   "metadata": {},
   "outputs": [],
   "source": [
    "model = models.Sequential()\n",
    "model.add(layers.Conv2D(32, 3, activation = 'relu', padding = 'same', input_shape=(HEIGHT, WIDTH, DEPTH)))\n",
    "model.add(layers.MaxPooling2D((2, 2)))\n",
    "model.add(layers.Flatten())\n",
    "model.add(layers.Dense(128, activation = 'relu'))\n",
    "model.add(layers.Dense(1, activation='sigmoid'))"
   ]
  },
  {
   "cell_type": "code",
   "execution_count": 109,
   "metadata": {},
   "outputs": [],
   "source": [
    "model.compile(loss ='binary_crossentropy',  \n",
    "                optimizer = optimizers.RMSprop(lr = 0.0001), \n",
    "                weighted_metrics = 'Recall',\n",
    "                metrics = 'binary_accuracy')"
   ]
  },
  {
   "cell_type": "code",
   "execution_count": 110,
   "metadata": {},
   "outputs": [
    {
     "name": "stdout",
     "output_type": "stream",
     "text": [
      "Epoch 1/5\n",
      "62/62 [==============================] - 297s 5s/step - loss: 0.7444 - binary_accuracy: 0.6351 - recall: 0.3316 - val_loss: 0.6712 - val_binary_accuracy: 0.6819 - val_recall: 0.0000e+00\n",
      "Epoch 2/5\n",
      "62/62 [==============================] - 298s 5s/step - loss: 0.7149 - binary_accuracy: 0.5440 - recall: 0.4352 - val_loss: 0.6961 - val_binary_accuracy: 0.3181 - val_recall: 1.0000\n",
      "Epoch 3/5\n",
      "62/62 [==============================] - 296s 5s/step - loss: 0.7052 - binary_accuracy: 0.5179 - recall: 0.4974 - val_loss: 0.6553 - val_binary_accuracy: 0.6819 - val_recall: 0.0000e+00\n",
      "Epoch 4/5\n",
      "62/62 [==============================] - 295s 5s/step - loss: 0.7135 - binary_accuracy: 0.4816 - recall: 0.5078 - val_loss: 0.6577 - val_binary_accuracy: 0.6819 - val_recall: 0.0000e+00\n",
      "Epoch 5/5\n",
      "62/62 [==============================] - 295s 5s/step - loss: 0.7168 - binary_accuracy: 0.5261 - recall: 0.3782 - val_loss: 0.6887 - val_binary_accuracy: 0.6819 - val_recall: 0.0000e+00\n",
      "Total Time Elapsed:  25  minutes  17  seconds\n"
     ]
    }
   ],
   "source": [
    "# Start timer to keep track of how long model is running for, not using class weights for this model\n",
    "start = timer()\n",
    "\n",
    "weighted_vanilla = model.fit(train_set, epochs = 5, class_weight = weights,\n",
    "                            validation_data = validation_set)\n",
    "end = timer()\n",
    "\n",
    "# Take difference of time \n",
    "elapsed = end - start\n",
    "print('Total Time Elapsed: ', int(elapsed//60), ' minutes ', (round(elapsed%60)), ' seconds')"
   ]
  },
  {
   "cell_type": "markdown",
   "metadata": {},
   "source": [
    "## Model Summary, Evaluation, and Prediction on Unseen Data"
   ]
  },
  {
   "cell_type": "code",
   "execution_count": 111,
   "metadata": {},
   "outputs": [
    {
     "name": "stdout",
     "output_type": "stream",
     "text": [
      "Model: \"sequential_4\"\n",
      "_________________________________________________________________\n",
      "Layer (type)                 Output Shape              Param #   \n",
      "=================================================================\n",
      "conv2d_4 (Conv2D)            (None, 498, 331, 32)      896       \n",
      "_________________________________________________________________\n",
      "max_pooling2d_4 (MaxPooling2 (None, 249, 165, 32)      0         \n",
      "_________________________________________________________________\n",
      "conv2d_5 (Conv2D)            (None, 247, 163, 32)      9248      \n",
      "_________________________________________________________________\n",
      "max_pooling2d_5 (MaxPooling2 (None, 123, 81, 32)       0         \n",
      "_________________________________________________________________\n",
      "dropout (Dropout)            (None, 123, 81, 32)       0         \n",
      "_________________________________________________________________\n",
      "conv2d_6 (Conv2D)            (None, 123, 81, 64)       18496     \n",
      "_________________________________________________________________\n",
      "max_pooling2d_6 (MaxPooling2 (None, 61, 40, 64)        0         \n",
      "_________________________________________________________________\n",
      "conv2d_7 (Conv2D)            (None, 59, 38, 64)        36928     \n",
      "_________________________________________________________________\n",
      "max_pooling2d_7 (MaxPooling2 (None, 29, 19, 64)        0         \n",
      "_________________________________________________________________\n",
      "dropout_1 (Dropout)          (None, 29, 19, 64)        0         \n",
      "_________________________________________________________________\n",
      "conv2d_8 (Conv2D)            (None, 29, 19, 128)       73856     \n",
      "_________________________________________________________________\n",
      "max_pooling2d_8 (MaxPooling2 (None, 14, 9, 128)        0         \n",
      "_________________________________________________________________\n",
      "dropout_2 (Dropout)          (None, 14, 9, 128)        0         \n",
      "_________________________________________________________________\n",
      "conv2d_9 (Conv2D)            (None, 14, 9, 256)        295168    \n",
      "_________________________________________________________________\n",
      "max_pooling2d_9 (MaxPooling2 (None, 7, 4, 256)         0         \n",
      "_________________________________________________________________\n",
      "dropout_3 (Dropout)          (None, 7, 4, 256)         0         \n",
      "_________________________________________________________________\n",
      "flatten_4 (Flatten)          (None, 7168)              0         \n",
      "_________________________________________________________________\n",
      "dense_8 (Dense)              (None, 256)               1835264   \n",
      "_________________________________________________________________\n",
      "dense_9 (Dense)              (None, 256)               65792     \n",
      "_________________________________________________________________\n",
      "dropout_4 (Dropout)          (None, 256)               0         \n",
      "_________________________________________________________________\n",
      "dense_10 (Dense)             (None, 1)                 257       \n",
      "=================================================================\n",
      "Total params: 2,335,905\n",
      "Trainable params: 2,335,905\n",
      "Non-trainable params: 0\n",
      "_________________________________________________________________\n"
     ]
    }
   ],
   "source": [
    "weighted_vanilla.summary()"
   ]
  },
  {
   "cell_type": "code",
   "execution_count": 106,
   "metadata": {},
   "outputs": [
    {
     "name": "stdout",
     "output_type": "stream",
     "text": [
      "25/25 [==============================] - 26s 1s/step - loss: 0.4752 - binary_accuracy: 0.8375 - recall: 0.0000e+00 - precision: 0.0000e+00\n"
     ]
    },
    {
     "data": {
      "text/plain": [
       "[0.4751628637313843, 0.8374512195587158, 0.0, 0.0]"
      ]
     },
     "execution_count": 106,
     "metadata": {},
     "output_type": "execute_result"
    }
   ],
   "source": [
    "weighted_vanilla.evaluate(test_set)"
   ]
  },
  {
   "cell_type": "code",
   "execution_count": null,
   "metadata": {},
   "outputs": [],
   "source": [
    "weighted_vanilla.save('SCRIPTS/weighted_vanilla\\assets')"
   ]
  },
  {
   "cell_type": "markdown",
   "metadata": {},
   "source": [
    "## Iterative Modeling"
   ]
  },
  {
   "cell_type": "code",
   "execution_count": 88,
   "metadata": {},
   "outputs": [],
   "source": [
    "HEIGHT = 500\n",
    "WIDTH = 333\n",
    "DEPTH = 3\n",
    "\n",
    "model = models.Sequential()\n",
    "\n",
    "model.add(layers.Conv2D(32, 3, activation = 'relu', input_shape=(HEIGHT, WIDTH, DEPTH)))\n",
    "model.add(layers.MaxPooling2D())\n",
    "\n",
    "model.add(layers.Conv2D(32, kernel_size=(3, 3), activation=\"relu\"))\n",
    "model.add(layers.MaxPooling2D())\n",
    "model.add(layers.Dropout(0.25))\n",
    "\n",
    "model.add(layers.Conv2D(64, kernel_size=(3, 3), activation=\"relu\", padding=\"same\"))\n",
    "model.add(layers.MaxPooling2D())\n",
    "\n",
    "model.add(layers.Conv2D(64, kernel_size=(3, 3), activation=\"relu\"))\n",
    "model.add(layers.MaxPooling2D())\n",
    "model.add(layers.Dropout(0.25))\n",
    "\n",
    "model.add(layers.Conv2D(128, kernel_size=(3, 3), activation=\"sigmoid\", padding=\"same\"))\n",
    "model.add(layers.MaxPooling2D())\n",
    "model.add(layers.Dropout(0.25))\n",
    "\n",
    "model.add(layers.Conv2D(256, kernel_size=(3, 3), activation=\"sigmoid\", padding=\"same\"))\n",
    "model.add(layers.MaxPooling2D())\n",
    "model.add(layers.Dropout(0.25))\n",
    "model.add(layers.Flatten())\n",
    "\n",
    "model.add(layers.Dense(256, activation=\"relu\"))\n",
    "model.add(layers.Dense(256, activation=\"sigmoid\"))\n",
    "model.add(layers.Dropout(0.25))\n",
    "model.add(layers.Dense(1, activation=\"sigmoid\"))"
   ]
  },
  {
   "cell_type": "code",
   "execution_count": 114,
   "metadata": {},
   "outputs": [],
   "source": [
    "model.compile(loss='binary_crossentropy',  \n",
    "                optimizer=optimizers.RMSprop(lr= 0.0001),\n",
    "                metrics = ['accuracy', 'binary_accuracy', 'Recall'])"
   ]
  },
  {
   "cell_type": "code",
   "execution_count": 115,
   "metadata": {},
   "outputs": [
    {
     "name": "stdout",
     "output_type": "stream",
     "text": [
      "Epoch 1/10\n",
      "62/62 [==============================] - 332s 5s/step - loss: 0.7058 - accuracy: 0.5901 - binary_accuracy: 0.5901 - recall: 0.4560 - val_loss: 0.7252 - val_accuracy: 0.3181 - val_binary_accuracy: 0.3181 - val_recall: 1.0000\n",
      "Epoch 2/10\n",
      "62/62 [==============================] - 372s 6s/step - loss: 0.7055 - accuracy: 0.5302 - binary_accuracy: 0.5302 - recall: 0.4611 - val_loss: 0.7041 - val_accuracy: 0.3181 - val_binary_accuracy: 0.3181 - val_recall: 1.0000\n",
      "Epoch 3/10\n",
      "62/62 [==============================] - 472s 8s/step - loss: 0.7156 - accuracy: 0.4969 - binary_accuracy: 0.4969 - recall: 0.4611 - val_loss: 0.6674 - val_accuracy: 0.6819 - val_binary_accuracy: 0.6819 - val_recall: 0.0000e+00\n",
      "Epoch 4/10\n",
      "62/62 [==============================] - 622s 10s/step - loss: 0.7128 - accuracy: 0.5507 - binary_accuracy: 0.5507 - recall: 0.3679 - val_loss: 0.7171 - val_accuracy: 0.3181 - val_binary_accuracy: 0.3181 - val_recall: 1.0000\n",
      "Epoch 5/10\n",
      "62/62 [==============================] - 618s 10s/step - loss: 0.7027 - accuracy: 0.5368 - binary_accuracy: 0.5368 - recall: 0.4819 - val_loss: 0.7216 - val_accuracy: 0.3181 - val_binary_accuracy: 0.3181 - val_recall: 1.0000\n",
      "Epoch 6/10\n",
      "62/62 [==============================] - 661s 11s/step - loss: 0.7042 - accuracy: 0.4780 - binary_accuracy: 0.4780 - recall: 0.5544 - val_loss: 0.6949 - val_accuracy: 0.3883 - val_binary_accuracy: 0.3883 - val_recall: 0.8514\n",
      "Epoch 7/10\n",
      "62/62 [==============================] - 745s 12s/step - loss: 0.7035 - accuracy: 0.4882 - binary_accuracy: 0.4882 - recall: 0.5233 - val_loss: 0.6497 - val_accuracy: 0.6819 - val_binary_accuracy: 0.6819 - val_recall: 0.0000e+00\n",
      "Epoch 8/10\n",
      "62/62 [==============================] - 853s 14s/step - loss: 0.7044 - accuracy: 0.5742 - binary_accuracy: 0.5742 - recall: 0.4041 - val_loss: 0.6904 - val_accuracy: 0.6146 - val_binary_accuracy: 0.6146 - val_recall: 0.2748\n",
      "Epoch 9/10\n",
      "62/62 [==============================] - 459s 7s/step - loss: 0.7019 - accuracy: 0.5512 - binary_accuracy: 0.5512 - recall: 0.4715 - val_loss: 0.7015 - val_accuracy: 0.3266 - val_binary_accuracy: 0.3266 - val_recall: 0.9820\n",
      "Epoch 10/10\n",
      "62/62 [==============================] - 442s 7s/step - loss: 0.7034 - accuracy: 0.4775 - binary_accuracy: 0.4775 - recall: 0.5492 - val_loss: 0.6903 - val_accuracy: 0.5874 - val_binary_accuracy: 0.5874 - val_recall: 0.3243\n",
      "Total Time Elapsed:  94  minutes  51  seconds\n"
     ]
    }
   ],
   "source": [
    "# Start timer to keep track of how long model is running for\n",
    "start = timer()\n",
    "\n",
    "model_script = model.fit(train_set, epochs = 10, class_weight = weights,\n",
    "                            validation_data = validation_set)\n",
    "end = timer()\n",
    "\n",
    "# Take difference of time \n",
    "elapsed = end - start\n",
    "print('Total Time Elapsed: ', int(elapsed//60), ' minutes ', (round(elapsed%60)), ' seconds')"
   ]
  },
  {
   "cell_type": "markdown",
   "metadata": {},
   "source": [
    "## Model Summary, Evaluation, and Prediction on Unseen Data"
   ]
  },
  {
   "cell_type": "code",
   "execution_count": 116,
   "metadata": {},
   "outputs": [
    {
     "name": "stdout",
     "output_type": "stream",
     "text": [
      "Model: \"sequential_4\"\n",
      "_________________________________________________________________\n",
      "Layer (type)                 Output Shape              Param #   \n",
      "=================================================================\n",
      "conv2d_4 (Conv2D)            (None, 498, 331, 32)      896       \n",
      "_________________________________________________________________\n",
      "max_pooling2d_4 (MaxPooling2 (None, 249, 165, 32)      0         \n",
      "_________________________________________________________________\n",
      "conv2d_5 (Conv2D)            (None, 247, 163, 32)      9248      \n",
      "_________________________________________________________________\n",
      "max_pooling2d_5 (MaxPooling2 (None, 123, 81, 32)       0         \n",
      "_________________________________________________________________\n",
      "dropout (Dropout)            (None, 123, 81, 32)       0         \n",
      "_________________________________________________________________\n",
      "conv2d_6 (Conv2D)            (None, 123, 81, 64)       18496     \n",
      "_________________________________________________________________\n",
      "max_pooling2d_6 (MaxPooling2 (None, 61, 40, 64)        0         \n",
      "_________________________________________________________________\n",
      "conv2d_7 (Conv2D)            (None, 59, 38, 64)        36928     \n",
      "_________________________________________________________________\n",
      "max_pooling2d_7 (MaxPooling2 (None, 29, 19, 64)        0         \n",
      "_________________________________________________________________\n",
      "dropout_1 (Dropout)          (None, 29, 19, 64)        0         \n",
      "_________________________________________________________________\n",
      "conv2d_8 (Conv2D)            (None, 29, 19, 128)       73856     \n",
      "_________________________________________________________________\n",
      "max_pooling2d_8 (MaxPooling2 (None, 14, 9, 128)        0         \n",
      "_________________________________________________________________\n",
      "dropout_2 (Dropout)          (None, 14, 9, 128)        0         \n",
      "_________________________________________________________________\n",
      "conv2d_9 (Conv2D)            (None, 14, 9, 256)        295168    \n",
      "_________________________________________________________________\n",
      "max_pooling2d_9 (MaxPooling2 (None, 7, 4, 256)         0         \n",
      "_________________________________________________________________\n",
      "dropout_3 (Dropout)          (None, 7, 4, 256)         0         \n",
      "_________________________________________________________________\n",
      "flatten_4 (Flatten)          (None, 7168)              0         \n",
      "_________________________________________________________________\n",
      "dense_8 (Dense)              (None, 256)               1835264   \n",
      "_________________________________________________________________\n",
      "dense_9 (Dense)              (None, 256)               65792     \n",
      "_________________________________________________________________\n",
      "dropout_4 (Dropout)          (None, 256)               0         \n",
      "_________________________________________________________________\n",
      "dense_10 (Dense)             (None, 1)                 257       \n",
      "=================================================================\n",
      "Total params: 2,335,905\n",
      "Trainable params: 2,335,905\n",
      "Non-trainable params: 0\n",
      "_________________________________________________________________\n"
     ]
    }
   ],
   "source": [
    "model_script.summary()"
   ]
  },
  {
   "cell_type": "code",
   "execution_count": 117,
   "metadata": {},
   "outputs": [
    {
     "name": "stdout",
     "output_type": "stream",
     "text": [
      "25/25 [==============================] - 31s 1s/step - loss: 0.6877 - accuracy: 0.6151 - binary_accuracy: 0.6151 - recall: 0.2160\n"
     ]
    },
    {
     "data": {
      "text/plain": [
       "[0.6877250075340271,\n",
       " 0.6150845289230347,\n",
       " 0.6150845289230347,\n",
       " 0.2160000056028366]"
      ]
     },
     "execution_count": 117,
     "metadata": {},
     "output_type": "execute_result"
    }
   ],
   "source": [
    "model_script.evaluate(test_set)"
   ]
  },
  {
   "cell_type": "code",
   "execution_count": null,
   "metadata": {},
   "outputs": [],
   "source": [
    "model_script.predict(test_set)"
   ]
  },
  {
   "cell_type": "code",
   "execution_count": 137,
   "metadata": {},
   "outputs": [
    {
     "name": "stdout",
     "output_type": "stream",
     "text": [
      "INFO:tensorflow:Assets written to: SCRIPTS/model_iv\u0007ssets/assets\n"
     ]
    }
   ],
   "source": [
    "model_script.save('SCRIPTS/model_script\\assets')"
   ]
  },
  {
   "cell_type": "code",
   "execution_count": 114,
   "metadata": {},
   "outputs": [
    {
     "data": {
      "image/png": "[encoded data removed]",
      "text/plain": [
       "<Figure size 432x288 with 1 Axes>"
      ]
     },
     "metadata": {
      "needs_background": "light"
     },
     "output_type": "display_data"
    }
   ],
   "source": [
    "model_ = model_script.history\n",
    "epochs = model_script.epoch\n",
    "    \n",
    "plt.figure()\n",
    "plt.plot(epochs, model_['loss'], label='Training loss')\n",
    "plt.plot(epochs, model_['val_loss'], label='Validation loss')\n",
    "plt.title('Training and validation loss')\n",
    "plt.legend()\n",
    "    \n",
    "plt.show();"
   ]
  },
  {
   "cell_type": "code",
   "execution_count": null,
   "metadata": {},
   "outputs": [],
   "source": []
  },
  {
   "cell_type": "code",
   "execution_count": null,
   "metadata": {},
   "outputs": [],
   "source": []
  },
  {
   "cell_type": "code",
   "execution_count": 60,
   "metadata": {},
   "outputs": [
    {
     "name": "stdout",
     "output_type": "stream",
     "text": [
      "Found 769 images belonging to 2 classes.\n"
     ]
    }
   ],
   "source": [
    "test_generator = image.ImageDataGenerator(rescale = 1/255).flow_from_directory(\n",
    "    directory=test_dir,\n",
    "    target_size=(500, 333),\n",
    "    color_mode=\"rgb\",\n",
    "    batch_size = 32,\n",
    "    class_mode='binary',\n",
    "    shuffle=False\n",
    ")\n",
    "\n",
    "test_generator.reset()"
   ]
  },
  {
   "cell_type": "code",
   "execution_count": 65,
   "metadata": {},
   "outputs": [
    {
     "name": "stdout",
     "output_type": "stream",
     "text": [
      "25/25 [==============================] - 19s 759ms/step\n"
     ]
    }
   ],
   "source": [
    "pred = model.predict_generator(test_generator,verbose=1)\n",
    "predicted_class_indices=np.argmax(pred,axis=1)\n",
    "\n",
    "labels = (train_set.class_indices)\n",
    "labels = dict((v,k) for k,v in labels.items())\n",
    "predictions = [labels[k] for k in predicted_class_indices]"
   ]
  },
  {
   "cell_type": "code",
   "execution_count": 66,
   "metadata": {},
   "outputs": [],
   "source": [
    "filenames=test_generator.filenames\n",
    "results=pd.DataFrame({\"Filename\":filenames,\n",
    "                      \"Predictions\":predictions})"
   ]
  },
  {
   "cell_type": "code",
   "execution_count": null,
   "metadata": {},
   "outputs": [],
   "source": []
  }
 ],
 "metadata": {
  "kernelspec": {
   "display_name": "Python 3",
   "language": "python",
   "name": "python3"
  },
  "language_info": {
   "codemirror_mode": {
    "name": "ipython",
    "version": 3
   },
   "file_extension": ".py",
   "mimetype": "text/x-python",
   "name": "python",
   "nbconvert_exporter": "python",
   "pygments_lexer": "ipython3",
   "version": "3.7.6"
  }
 },
 "nbformat": 4,
 "nbformat_minor": 4
}
